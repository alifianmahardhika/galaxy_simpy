{
 "cells": [
  {
   "cell_type": "markdown",
   "metadata": {},
   "source": [
    "# Two Particles Case (Euler and Symplectic)"
   ]
  },
  {
   "cell_type": "code",
   "execution_count": null,
   "metadata": {},
   "outputs": [],
   "source": [
    "#library\n",
    "import numpy as np\n",
    "import matplotlib.pyplot as plt\n",
    "from numpy import sin,cos,pi,sqrt\n",
    "\n",
    "#function\n",
    "def f(a,b):\n",
    "    r = b-a\n",
    "    r = sqrt(r[0]**2+r[1]**2)\n",
    "    #r = sqrt(np.dot(r,r))\n",
    "    return (G*m*(b-a))/(r**3)\n",
    "def euler(x,v):\n",
    "    x_k = x\n",
    "    for i in range(n_particles):\n",
    "        for j in range(n_particles):\n",
    "            if(i!=j):    \n",
    "                x[i] += v[i]*dt\n",
    "                v[i] += f(x_k[i],x_k[j])*dt\n",
    "    return x,v\n",
    "def symplectic(x,v):\n",
    "    for i in range(n_particles):\n",
    "        for j in range(n_particles):\n",
    "            if(i!=j):    \n",
    "                v[i] += f(x[i],x[j])*dt\n",
    "                x[i] += v[i]*dt\n",
    "    return x,v\n",
    "def init_two():\n",
    "    x1 = ([R*cos(omega*t0),R*sin(omega*t0)])\n",
    "    x2 = -np.copy(x1)\n",
    "    v1 = ([omega*x1[1],omega*x1[0]])\n",
    "    v2 = -np.copy(v1)\n",
    "    x = np.array([x1,x2])\n",
    "    v = np.array([v1,v2])\n",
    "    return x,v"
   ]
  },
  {
   "cell_type": "code",
   "execution_count": null,
   "metadata": {
    "scrolled": true
   },
   "outputs": [],
   "source": [
    "#parameter\n",
    "m = 1. #kg\n",
    "R = 2. #m\n",
    "G = 6.67 #m/s^2\n",
    "omega = sqrt((G*m)/(4*R**3)) #velocity\n",
    "Period0=(2*np.pi)/omega\n",
    "t0 = 0.\n",
    "t = 30\n",
    "Period = t/Period0\n",
    "N = 100\n",
    "dt = t/N\n",
    "scale = 2*R\n",
    "n_particles = 2\n",
    "\n",
    "#initial condition\n",
    "x,v = init_two()\n",
    "\n",
    "#main loop\n",
    "print(x,Period)\n",
    "t = t0\n",
    "xe = ([R*cos(omega*t),R*sin(omega*t)],[-R*cos(omega*t),-R*sin(omega*t)])\n",
    "xe = np.array(xe)\n",
    "for k in range(N):\n",
    "    plt.plot(x[:,0],x[:,1], 'r.')\n",
    "    plt.plot(xe[:,0],xe[:,1], 'b.')\n",
    "    t = k*dt\n",
    "    #plt.close('all')\n",
    "    x,v = euler(x,v)\n",
    "    xe = ([R*cos(omega*t),R*sin(omega*t)],[-R*cos(omega*t),-R*sin(omega*t)])\n",
    "    xe = np.array(xe)\n",
    "    plt.plot(x[:,0],x[:,1], 'r.')\n",
    "    #plt.plot(xe[:,0],xe[:,1], 'b.')\n",
    "    plt.xlim(right=scale,left=-scale)\n",
    "    plt.ylim(top=scale,bottom=-scale)\n",
    "    #filename='./figures/fig'+str(k)+'.png'\n",
    "    #plt.savefig(filename)\n",
    "    #plt.axes(aspect='equal')\n",
    "plt.plot(x[:,0],x[:,1], 'r.', label=\"Euler\")\n",
    "plt.plot(xe[:,0],xe[:,1], 'b.', label=\"Exact\")\n",
    "leg = plt.legend(loc='upper right', ncol=1, shadow=False, fancybox=True)\n",
    "leg.get_frame().set_alpha(0.5)\n",
    "inText = 'dt = ' + str(dt)\n",
    "plt.grid(b=1, ls='--')\n",
    "plt.title('Plot Euler vs Exact')\n",
    "plt.xlabel(r'$x_1$', fontsize=12)\n",
    "plt.ylabel(r'$x_2$', fontsize=12)\n",
    "plt.text(-scale+.5, -scale+.5, inText, fontsize = 12, bbox=dict(facecolor='white', alpha=0.5))\n",
    "plt.savefig(\"plot.png\")\n",
    "plt.show()"
   ]
  },
  {
   "cell_type": "code",
   "execution_count": null,
   "metadata": {},
   "outputs": [],
   "source": [
    "m = 1. #kg\n",
    "R = 2. #m\n",
    "G = 6.7 #m/s^2\n",
    "omega = sqrt((G*m)/(4*R**3)) #velocity\n",
    "(2*np.pi)/omega\n",
    "400/13.7"
   ]
  },
  {
   "cell_type": "markdown",
   "metadata": {},
   "source": [
    "## Error Plot"
   ]
  },
  {
   "cell_type": "code",
   "execution_count": null,
   "metadata": {
    "scrolled": true
   },
   "outputs": [],
   "source": [
    "#parameter\n",
    "m = 2. #kg\n",
    "R = 2. #m\n",
    "G = 9.8 #m/s^2\n",
    "omega = sqrt((G*m)/(4*R**3))\n",
    "t0 = 0.\n",
    "t = 5.\n",
    "Nlist = [10,20,30,50,100]\n",
    "\n",
    "#initial condition\n",
    "p1 = np.array([R*cos(omega*t0),R*sin(omega*t0)])\n",
    "p2 = -np.copy(p1)\n",
    "v1 = np.array([omega*p1[1],omega*p1[0]])\n",
    "v2 = -np.copy(v1)\n",
    "\n",
    "#main loop\n",
    "for N in Nlist:\n",
    "    dt = t/N\n",
    "    for k in range(N):\n",
    "        t = t0+k*dt\n",
    "        p1,p2,v1,v2 = euler(p1,p2,v1,v2)\n",
    "        p1e = [R*cos(omega*t),R*sin(omega*t)]\n",
    "        p2e = [-R*cos(omega*t),-R*sin(omega*t)]\n",
    "    err = (np.abs(p1-p1e))\n",
    "    #print(dt,err)"
   ]
  },
  {
   "cell_type": "markdown",
   "metadata": {},
   "source": [
    "# Many Body Case (Euler and Sympletic)"
   ]
  },
  {
   "cell_type": "code",
   "execution_count": 4,
   "metadata": {},
   "outputs": [],
   "source": [
    "import numpy as np\n",
    "import matplotlib.pyplot as plt\n",
    "from numpy import sin,cos,pi,sqrt,exp\n",
    "\n",
    "def f(a,b):\n",
    "    r = b-a\n",
    "    r = sqrt(r[0]**2+r[1]**2)\n",
    "    #r = sqrt(np.dot(r,r))\n",
    "    return (G*m*(b-a))/(r**3)\n",
    "\n",
    "def euler(x,v):\n",
    "    x_k = x\n",
    "    for i in range(n_particles):\n",
    "        for j in range(n_particles):\n",
    "            if(i!=j):    \n",
    "                x[i] += v[i]*dt\n",
    "                v[i] += f(x_k[i],x_k[j])*dt\n",
    "    return x,v\n",
    "\n",
    "def symplectic(x,v):\n",
    "    for i in range(n_particles):\n",
    "        for j in range(n_particles):\n",
    "            if(i!=j):    \n",
    "                v[i] += f(x[i],x[j])*dt\n",
    "                x[i] += v[i]*dt\n",
    "    return x,v\n",
    "\n",
    "def eulermod(x,v):\n",
    "    x_k = x\n",
    "    for i in range(n_particles):\n",
    "        for j in range(n_particles):\n",
    "            if(i!=j):    \n",
    "                x[i] += v[i]*dt\n",
    "                v[i] += f(x_k[i],x_k[j])*dt\n",
    "        if (abs(x[i,0]) > scale) or (abs(x[i,0] < -scale)):\n",
    "            v[i,0] = -v[i,0]\n",
    "            x[i,0] += v[i,0]*dt\n",
    "        if (abs(x[i,1]) > scale) or (abs(x[i,1] < -scale)):\n",
    "            v[i,1] = -v[i,1]\n",
    "            x[i,1] += v[i,1]*dt\n",
    "    return x,v\n",
    "\n",
    "def init_two():\n",
    "    n_particles = 2\n",
    "    x1 = ([R*cos(omega*t0),R*sin(omega*t0)])\n",
    "    x2 = -np.copy(x1)\n",
    "    v1 = ([omega*x1[1],omega*x1[0]])\n",
    "    v2 = -np.copy(v1)\n",
    "    x = np.array([x1,x2])\n",
    "    v = np.array([v1,v2])\n",
    "    return x,v\n",
    "\n",
    "def get_init_coordinates():\n",
    "    x = np.zeros((n_particles,d))\n",
    "    for i in range(n_particles):\n",
    "        if (i%2):\n",
    "            x[i] = ([R*cos(omega*t0),R*sin(omega*t0)])\n",
    "        elif (i%2==0):\n",
    "            x[i] = ([-R*cos(omega*t0),-R*sin(omega*t0)])\n",
    "    return x\n",
    "\n",
    "def get_init_coordinates2():\n",
    "    x = np.zeros((n_particles,d))\n",
    "    for i in range(n_particles):\n",
    "        if (i%2):\n",
    "            x[i] = ([i*R*cos(omega*t0),i*R*sin(omega*t0)])\n",
    "        elif (i%2==0):\n",
    "            x[i] = ([-i*R*cos(omega*t0),-i*R*sin(omega*t0)])\n",
    "    return x\n",
    "\n",
    "def get_coordinates():\n",
    "    x = np.zeros((n_particles,d))\n",
    "    for i in range(n_particles):\n",
    "        rho = np.random.rand()\n",
    "        x[i] = ([R*exp(rho)*exp(cos(omega*t0)),R*exp(rho)*exp(sin(omega*t0))])\n",
    "    return x\n",
    "\n",
    "def get_init_velocities():\n",
    "    v = np.zeros((n_particles,d))\n",
    "    for i in range(n_particles):\n",
    "        v[i] = ([0.0,0.0])\n",
    "    return v"
   ]
  },
  {
   "cell_type": "code",
   "execution_count": 2,
   "metadata": {
    "scrolled": false
   },
   "outputs": [
    {
     "name": "stdout",
     "output_type": "stream",
     "text": [
      "68.81164575293398 6881\n",
      "[[-2. -0.]\n",
      " [ 2.  0.]]\n"
     ]
    },
    {
     "name": "stderr",
     "output_type": "stream",
     "text": [
      "/Users/alifian/opt/anaconda3/lib/python3.7/site-packages/ipykernel_launcher.py:28: MatplotlibDeprecationWarning: Adding an axes using the same arguments as a previous axes currently reuses the earlier instance.  In a future version, a new instance will always be created and returned.  Meanwhile, this warning can be suppressed, and the future behavior ensured, by passing a unique label to each axes instance.\n"
     ]
    },
    {
     "data": {
      "image/png": "[encoded data removed]",
      "text/plain": [
       "<Figure size 432x288 with 1 Axes>"
      ]
     },
     "metadata": {
      "needs_background": "light"
     },
     "output_type": "display_data"
    }
   ],
   "source": [
    "#parameter\n",
    "m = 1. #kg\n",
    "R = 2. #m\n",
    "G = 6.67 #m/s^2\n",
    "omega = sqrt((G*m)/(4*R**3)) #velocities\n",
    "d = 2 #dimension\n",
    "n_particles = 2 #particles\n",
    "t0 = 0.\n",
    "t = 5*2.0*pi/omega\n",
    "dt = 0.01\n",
    "N = np.int(np.floor(t/dt))\n",
    "scale = 1.5*R\n",
    "print(t,N)\n",
    "#initial condition\n",
    "#x,v = init_two()\n",
    "x = get_init_coordinates()\n",
    "v = get_init_velocities()\n",
    "#main loop\n",
    "print(x)\n",
    "for k in range(N):\n",
    "    #plt.close('all')\n",
    "    x,v = eulermod(x,v)\n",
    "    plt.plot(x[:,0],x[:,1], 'ro')\n",
    "    plt.xlim(right=scale,left=-scale)\n",
    "    plt.ylim(top=scale,bottom=-scale)\n",
    "    #filename='./figures/fig'+str(k)+'.png'\n",
    "    #plt.savefig(filename)\n",
    "    plt.axes(aspect='equal')\n",
    "plt.show()"
   ]
  },
  {
   "cell_type": "code",
   "execution_count": 6,
   "metadata": {
    "scrolled": true
   },
   "outputs": [
    {
     "data": {
      "image/png": "[encoded data removed]",
      "text/plain": [
       "<Figure size 432x288 with 1 Axes>"
      ]
     },
     "metadata": {
      "needs_background": "light"
     },
     "output_type": "display_data"
    },
    {
     "ename": "ValueError",
     "evalue": "operands could not be broadcast together with shapes (10,) (2,) ",
     "output_type": "error",
     "traceback": [
      "\u001b[0;31m---------------------------------------------------------------------------\u001b[0m",
      "\u001b[0;31mValueError\u001b[0m                                Traceback (most recent call last)",
      "\u001b[0;32m<ipython-input-6-bc4c38d1d837>\u001b[0m in \u001b[0;36m<module>\u001b[0;34m\u001b[0m\n\u001b[1;32m     12\u001b[0m \u001b[0;32mfor\u001b[0m \u001b[0mk\u001b[0m \u001b[0;32min\u001b[0m \u001b[0mrange\u001b[0m\u001b[0;34m(\u001b[0m\u001b[0;36m100\u001b[0m\u001b[0;34m)\u001b[0m\u001b[0;34m:\u001b[0m\u001b[0;34m\u001b[0m\u001b[0;34m\u001b[0m\u001b[0m\n\u001b[1;32m     13\u001b[0m     \u001b[0mplt\u001b[0m\u001b[0;34m.\u001b[0m\u001b[0mclose\u001b[0m\u001b[0;34m(\u001b[0m\u001b[0;34m'all'\u001b[0m\u001b[0;34m)\u001b[0m\u001b[0;34m\u001b[0m\u001b[0;34m\u001b[0m\u001b[0m\n\u001b[0;32m---> 14\u001b[0;31m     \u001b[0mx\u001b[0m\u001b[0;34m,\u001b[0m\u001b[0mv\u001b[0m \u001b[0;34m=\u001b[0m \u001b[0meuler\u001b[0m\u001b[0;34m(\u001b[0m\u001b[0mx\u001b[0m\u001b[0;34m,\u001b[0m\u001b[0mv\u001b[0m\u001b[0;34m)\u001b[0m\u001b[0;34m\u001b[0m\u001b[0;34m\u001b[0m\u001b[0m\n\u001b[0m\u001b[1;32m     15\u001b[0m     \u001b[0mplt\u001b[0m\u001b[0;34m.\u001b[0m\u001b[0mplot\u001b[0m\u001b[0;34m(\u001b[0m\u001b[0mx\u001b[0m\u001b[0;34m[\u001b[0m\u001b[0;34m:\u001b[0m\u001b[0;34m,\u001b[0m\u001b[0;36m0\u001b[0m\u001b[0;34m]\u001b[0m\u001b[0;34m,\u001b[0m\u001b[0mx\u001b[0m\u001b[0;34m[\u001b[0m\u001b[0;34m:\u001b[0m\u001b[0;34m,\u001b[0m\u001b[0;36m1\u001b[0m\u001b[0;34m]\u001b[0m\u001b[0;34m,\u001b[0m \u001b[0;34m'ro'\u001b[0m\u001b[0;34m)\u001b[0m\u001b[0;34m\u001b[0m\u001b[0;34m\u001b[0m\u001b[0m\n\u001b[1;32m     16\u001b[0m     \u001b[0mplt\u001b[0m\u001b[0;34m.\u001b[0m\u001b[0mxlim\u001b[0m\u001b[0;34m(\u001b[0m\u001b[0mright\u001b[0m\u001b[0;34m=\u001b[0m\u001b[0mscale\u001b[0m\u001b[0;34m,\u001b[0m\u001b[0mleft\u001b[0m\u001b[0;34m=\u001b[0m\u001b[0;34m-\u001b[0m\u001b[0mscale\u001b[0m\u001b[0;34m)\u001b[0m\u001b[0;34m\u001b[0m\u001b[0;34m\u001b[0m\u001b[0m\n",
      "\u001b[0;32m<ipython-input-4-ac16f9ff4af5>\u001b[0m in \u001b[0;36meuler\u001b[0;34m(x, v)\u001b[0m\n\u001b[1;32m     15\u001b[0m             \u001b[0;32mif\u001b[0m\u001b[0;34m(\u001b[0m\u001b[0mi\u001b[0m\u001b[0;34m!=\u001b[0m\u001b[0mj\u001b[0m\u001b[0;34m)\u001b[0m\u001b[0;34m:\u001b[0m\u001b[0;34m\u001b[0m\u001b[0;34m\u001b[0m\u001b[0m\n\u001b[1;32m     16\u001b[0m                 \u001b[0mx\u001b[0m\u001b[0;34m[\u001b[0m\u001b[0mi\u001b[0m\u001b[0;34m]\u001b[0m \u001b[0;34m+=\u001b[0m \u001b[0mv\u001b[0m\u001b[0;34m[\u001b[0m\u001b[0mi\u001b[0m\u001b[0;34m]\u001b[0m\u001b[0;34m*\u001b[0m\u001b[0mdt\u001b[0m\u001b[0;34m\u001b[0m\u001b[0;34m\u001b[0m\u001b[0m\n\u001b[0;32m---> 17\u001b[0;31m                 \u001b[0mv\u001b[0m\u001b[0;34m[\u001b[0m\u001b[0mi\u001b[0m\u001b[0;34m]\u001b[0m \u001b[0;34m+=\u001b[0m \u001b[0mf\u001b[0m\u001b[0;34m(\u001b[0m\u001b[0mx_k\u001b[0m\u001b[0;34m[\u001b[0m\u001b[0mi\u001b[0m\u001b[0;34m]\u001b[0m\u001b[0;34m,\u001b[0m\u001b[0mx_k\u001b[0m\u001b[0;34m[\u001b[0m\u001b[0mj\u001b[0m\u001b[0;34m]\u001b[0m\u001b[0;34m)\u001b[0m\u001b[0;34m*\u001b[0m\u001b[0mdt\u001b[0m\u001b[0;34m\u001b[0m\u001b[0;34m\u001b[0m\u001b[0m\n\u001b[0m\u001b[1;32m     18\u001b[0m     \u001b[0;32mreturn\u001b[0m \u001b[0mx\u001b[0m\u001b[0;34m,\u001b[0m\u001b[0mv\u001b[0m\u001b[0;34m\u001b[0m\u001b[0;34m\u001b[0m\u001b[0m\n\u001b[1;32m     19\u001b[0m \u001b[0;34m\u001b[0m\u001b[0m\n",
      "\u001b[0;32m<ipython-input-4-ac16f9ff4af5>\u001b[0m in \u001b[0;36mf\u001b[0;34m(a, b)\u001b[0m\n\u001b[1;32m      7\u001b[0m     \u001b[0mr\u001b[0m \u001b[0;34m=\u001b[0m \u001b[0msqrt\u001b[0m\u001b[0;34m(\u001b[0m\u001b[0mr\u001b[0m\u001b[0;34m[\u001b[0m\u001b[0;36m0\u001b[0m\u001b[0;34m]\u001b[0m\u001b[0;34m**\u001b[0m\u001b[0;36m2\u001b[0m\u001b[0;34m+\u001b[0m\u001b[0mr\u001b[0m\u001b[0;34m[\u001b[0m\u001b[0;36m1\u001b[0m\u001b[0;34m]\u001b[0m\u001b[0;34m**\u001b[0m\u001b[0;36m2\u001b[0m\u001b[0;34m)\u001b[0m\u001b[0;34m\u001b[0m\u001b[0;34m\u001b[0m\u001b[0m\n\u001b[1;32m      8\u001b[0m     \u001b[0;31m#r = sqrt(np.dot(r,r))\u001b[0m\u001b[0;34m\u001b[0m\u001b[0;34m\u001b[0m\u001b[0;34m\u001b[0m\u001b[0m\n\u001b[0;32m----> 9\u001b[0;31m     \u001b[0;32mreturn\u001b[0m \u001b[0;34m(\u001b[0m\u001b[0mG\u001b[0m\u001b[0;34m*\u001b[0m\u001b[0mm\u001b[0m\u001b[0;34m*\u001b[0m\u001b[0;34m(\u001b[0m\u001b[0mb\u001b[0m\u001b[0;34m-\u001b[0m\u001b[0ma\u001b[0m\u001b[0;34m)\u001b[0m\u001b[0;34m)\u001b[0m\u001b[0;34m/\u001b[0m\u001b[0;34m(\u001b[0m\u001b[0mr\u001b[0m\u001b[0;34m**\u001b[0m\u001b[0;36m3\u001b[0m\u001b[0;34m)\u001b[0m\u001b[0;34m\u001b[0m\u001b[0;34m\u001b[0m\u001b[0m\n\u001b[0m\u001b[1;32m     10\u001b[0m \u001b[0;34m\u001b[0m\u001b[0m\n\u001b[1;32m     11\u001b[0m \u001b[0;32mdef\u001b[0m \u001b[0meuler\u001b[0m\u001b[0;34m(\u001b[0m\u001b[0mx\u001b[0m\u001b[0;34m,\u001b[0m\u001b[0mv\u001b[0m\u001b[0;34m)\u001b[0m\u001b[0;34m:\u001b[0m\u001b[0;34m\u001b[0m\u001b[0;34m\u001b[0m\u001b[0m\n",
      "\u001b[0;31mValueError\u001b[0m: operands could not be broadcast together with shapes (10,) (2,) "
     ]
    }
   ],
   "source": [
    "d = 2 #dimension\n",
    "n_particles = 10 #particles\n",
    "x = np.zeros((n_particles,d))\n",
    "mu, sigma = 0, 0.1 # mean and standard deviation\n",
    "x[:,0] = R*np.random.normal(mu, sigma, n_particles)\n",
    "x[:,1] = R*np.random.normal(mu, sigma, n_particles)\n",
    "m = np.random.normal(mu, sigma, n_particles)\n",
    "plt.plot(x[:,0],x[:,1], 'ro')\n",
    "plt.show()\n",
    "v = get_init_velocities()\n",
    "dt = 0.01\n",
    "\n",
    "for k in range(100):\n",
    "    plt.close('all')\n",
    "    x,v = euler(x,v)\n",
    "    plt.plot(x[:,0],x[:,1], 'ro')\n",
    "    plt.xlim(right=scale,left=-scale)\n",
    "    plt.ylim(top=scale,bottom=-scale)\n",
    "    filename='./figures/fig'+str(k)+'.png'\n",
    "    plt.savefig(filename)\n",
    "    #plt.axes(aspect='equal')\n",
    "plt.show()"
   ]
  },
  {
   "cell_type": "code",
   "execution_count": null,
   "metadata": {},
   "outputs": [],
   "source": [
    "mu, sigma = 0, 0.1 # mean and standard deviation\n",
    "R*np.random.normal(mu, sigma, 1000)"
   ]
  },
  {
   "cell_type": "code",
   "execution_count": null,
   "metadata": {},
   "outputs": [],
   "source": [
    "#plt.quiver(x,y,vx,vy)\n",
    "#filename='./figures/fig'+str(i)+'.png'\n",
    "#plt.savefig(filename)"
   ]
  }
 ],
 "metadata": {
  "kernelspec": {
   "display_name": "Python 3",
   "language": "python",
   "name": "python3"
  },
  "language_info": {
   "codemirror_mode": {
    "name": "ipython",
    "version": 3
   },
   "file_extension": ".py",
   "mimetype": "text/x-python",
   "name": "python",
   "nbconvert_exporter": "python",
   "pygments_lexer": "ipython3",
   "version": "3.7.4"
  }
 },
 "nbformat": 4,
 "nbformat_minor": 2
}
